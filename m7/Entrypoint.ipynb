{
 "cells": [
  {
   "cell_type": "markdown",
   "id": "051b1d93",
   "metadata": {},
   "source": [
    "## Behavior, Difficulty & Grading: What Drives Retention on Lernnavi?\n",
    "This notebook is the entrypoint to the different parts of the project\n",
    "\n",
    "### Overview\n",
    "Learner dropout remains a central challenge in online education platforms. This project analyzes user engagement on Lernnavi, a curriculum-aligned learning platform used in Swiss secondary schools, to understand what factors most influence student retention.\n",
    "\n",
    "### We investigate:\n",
    "\n",
    "Behavioral Profiles — How do user activity patterns affect next-week engagement? \\\n",
    "Grading Bias — Are open-ended responses evaluated fairly? \n",
    "\n",
    "### Methodology\n",
    "\n",
    "Behavior Profiling: Aggregated event logs into weekly features, grouped into six dimensions of self-regulated learning.\\\n",
    "Engagement Prediction: Time-aware classification using tree-based models and LSTM.\\\n",
    "Difficulty Modeling: Constructed difficulty features from user response time and task correctness.\\\n",
    "Bias Detection: Compared grading outcomes with semantic similarity-based oracle labels using multilingual SBERT.\n",
    "\n",
    "### Key Findings\n",
    "\n",
    "Effort and regularity dominate engagement prediction.\\\n",
    "Difficulty features alone are weak predictors of dropout.\\\n",
    "Misalignments in grading open-input questions suggest areas for improvement in evaluation consistency.\n"
   ]
  },
  {
   "cell_type": "markdown",
   "id": "b6ce0f65",
   "metadata": {},
   "source": [
    "### RQ1 - How does user behavior influence retention rates on the platform?\n",
    "\n",
    "[Notebook](./RQ1_extension.ipynb)\n",
    "\n",
    "### RQ2 - How does difficulty influence retention rates on the platform?\n",
    "\n",
    "[Notebook](./RQ2.ipynb)\n",
    "\n",
    "### RQ3 - Are there biases induced by the evaluation of open ended questions ?\n",
    "\n",
    "[Notebook](./RQ3.ipynb)"
   ]
  }
 ],
 "metadata": {
  "language_info": {
   "name": "python"
  }
 },
 "nbformat": 4,
 "nbformat_minor": 5
}
